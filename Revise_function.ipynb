{
  "nbformat": 4,
  "nbformat_minor": 0,
  "metadata": {
    "colab": {
      "provenance": [],
      "authorship_tag": "ABX9TyNNbzlwwsWn3XF1C2dotyT6",
      "include_colab_link": true
    },
    "kernelspec": {
      "name": "python3",
      "display_name": "Python 3"
    },
    "language_info": {
      "name": "python"
    }
  },
  "cells": [
    {
      "cell_type": "markdown",
      "metadata": {
        "id": "view-in-github",
        "colab_type": "text"
      },
      "source": [
        "<a href=\"https://colab.research.google.com/github/isys5002-itp/Mandeep_ISYS5002_S2_Tuesday/blob/main/Revise_function.ipynb\" target=\"_parent\"><img src=\"https://colab.research.google.com/assets/colab-badge.svg\" alt=\"Open In Colab\"/></a>"
      ]
    },
    {
      "cell_type": "code",
      "execution_count": 2,
      "metadata": {
        "id": "Ji4sTtygakZD"
      },
      "outputs": [],
      "source": [
        "# defining function\n",
        "#Why Function- to avoide repeatition\n",
        "def sum(a,b):#a, b are said to be parameter\n",
        "  ans=a+b\n",
        "  return ans# retuen statement instead of output\n"
      ]
    },
    {
      "cell_type": "code",
      "source": [
        "# function call\n",
        "sum(2,3)\n",
        "sum(7,10)"
      ],
      "metadata": {
        "colab": {
          "base_uri": "https://localhost:8080/"
        },
        "id": "wlrwbGdXboc2",
        "outputId": "667e98e5-f96d-427b-9444-30311cf1a537"
      },
      "execution_count": 4,
      "outputs": [
        {
          "output_type": "execute_result",
          "data": {
            "text/plain": [
              "17"
            ]
          },
          "metadata": {},
          "execution_count": 4
        }
      ]
    }
  ]
}