{
  "nbformat": 4,
  "nbformat_minor": 0,
  "metadata": {
    "colab": {
      "provenance": [],
      "authorship_tag": "ABX9TyMk9xzyA0tNDNLvbGJ+Nc48",
      "include_colab_link": true
    },
    "kernelspec": {
      "name": "python3",
      "display_name": "Python 3"
    },
    "language_info": {
      "name": "python"
    }
  },
  "cells": [
    {
      "cell_type": "markdown",
      "metadata": {
        "id": "view-in-github",
        "colab_type": "text"
      },
      "source": [
        "<a href=\"https://colab.research.google.com/github/isys5002-itp/Mandeep_ISYS5002_S2_Tuesday/blob/main/Practice_print_and_input.ipynb\" target=\"_parent\"><img src=\"https://colab.research.google.com/assets/colab-badge.svg\" alt=\"Open In Colab\"/></a>"
      ]
    },
    {
      "cell_type": "code",
      "source": [
        "name=input(\"name:          \")\n",
        "s_id=input(\"student id-------\")\n",
        "adress=input(\"write your address--\")\n",
        "# one option to print\n",
        "print(f\"The user’s name is {name} and his student id is {1}\")\n",
        "# second option to print\n",
        "print(\"The user’s name is  \"+ name+ \" and his student id is  \"+s_id +\"he is residing at:\"+adress)"
      ],
      "metadata": {
        "colab": {
          "base_uri": "https://localhost:8080/"
        },
        "id": "C4gbslTOaaip",
        "outputId": "14254c02-cad4-47e8-ca0b-279796eb4fb8"
      },
      "execution_count": 17,
      "outputs": [
        {
          "output_type": "stream",
          "name": "stdout",
          "text": [
            "name:          Kim\n",
            "student id-------2343\n",
            "write your address--23 Como\n",
            "The user’s name is Kim and his student id is 2343\n"
          ]
        }
      ]
    }
  ]
}